{
  "nbformat": 4,
  "nbformat_minor": 0,
  "metadata": {
    "colab": {
      "provenance": [],
      "authorship_tag": "ABX9TyOVV5/Zrm0lNCnE8ChZOPbl",
      "include_colab_link": true
    },
    "kernelspec": {
      "name": "python3",
      "display_name": "Python 3"
    },
    "language_info": {
      "name": "python"
    }
  },
  "cells": [
    {
      "cell_type": "markdown",
      "metadata": {
        "id": "view-in-github",
        "colab_type": "text"
      },
      "source": [
        "<a href=\"https://colab.research.google.com/github/nhemanth1103/Algebra-with-python/blob/main/Algebra_with_python.ipynb\" target=\"_parent\"><img src=\"https://colab.research.google.com/assets/colab-badge.svg\" alt=\"Open In Colab\"/></a>"
      ]
    },
    {
      "cell_type": "markdown",
      "source": [
        "#Proportions\n"
      ],
      "metadata": {
        "id": "la8V30eY8Xcj"
      }
    },
    {
      "cell_type": "markdown",
      "source": [
        "Set up a proportion:<br>\n",
        "$\\frac{n1}{d1}=\\frac{n2}{d2}$"
      ],
      "metadata": {
        "id": "7jXJ0kTx9CLG"
      }
    },
    {
      "cell_type": "code",
      "execution_count": null,
      "metadata": {
        "id": "Vdi7B1P35lfQ",
        "colab": {
          "base_uri": "https://localhost:8080/"
        },
        "outputId": "1ed47f1b-9cb2-4cdc-fcd6-1d11d3315db0"
      },
      "outputs": [
        {
          "output_type": "stream",
          "name": "stdout",
          "text": [
            "n2: 1.5\n"
          ]
        }
      ],
      "source": [
        "#0 is an unknown value\n",
        "n1=1\n",
        "n2=0\n",
        "d1=4\n",
        "d2=6\n",
        "\n",
        "if n2==0 :\n",
        "  answer=(d2*n1/d1)\n",
        "  print(\"n2:\",answer)"
      ]
    },
    {
      "cell_type": "markdown",
      "source": [
        "**Note:**if a numerator n1=0 then n2 must be 0.<br>\n",
        "**Example** 0/4=x/16 here proportion x=0"
      ],
      "metadata": {
        "id": "5uexU1V8AiAs"
      }
    },
    {
      "cell_type": "markdown",
      "source": [
        "**Applications** for proportion problem such as currency exchange rates and unit conversion"
      ],
      "metadata": {
        "id": "hb09fM4rGS4B"
      }
    },
    {
      "cell_type": "code",
      "source": [
        "#currency exchange Ind to Usd\n",
        "USD=float(0.012)\n",
        "INR=1\n",
        "Amount_INR=int(input())\n",
        "Amount_USD=Amount_INR*USD\n",
        "print(Amount_USD)"
      ],
      "metadata": {
        "id": "1jN6CBjKAg38",
        "colab": {
          "base_uri": "https://localhost:8080/"
        },
        "outputId": "5e618437-f3d1-4b42-8eb6-9ffe4dd0a687"
      },
      "execution_count": 7,
      "outputs": [
        {
          "output_type": "stream",
          "name": "stdout",
          "text": [
            "100\n",
            "1.2\n"
          ]
        }
      ]
    }
  ]
}