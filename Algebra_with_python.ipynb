{
  "nbformat": 4,
  "nbformat_minor": 0,
  "metadata": {
    "colab": {
      "provenance": [],
      "toc_visible": true,
      "authorship_tag": "ABX9TyOpU0um1ZSar99nYbAMzN5u",
      "include_colab_link": true
    },
    "kernelspec": {
      "name": "python3",
      "display_name": "Python 3"
    },
    "language_info": {
      "name": "python"
    }
  },
  "cells": [
    {
      "cell_type": "markdown",
      "metadata": {
        "id": "view-in-github",
        "colab_type": "text"
      },
      "source": [
        "<a href=\"https://colab.research.google.com/github/nhemanth1103/Algebra-with-python/blob/main/Algebra_with_python.ipynb\" target=\"_parent\"><img src=\"https://colab.research.google.com/assets/colab-badge.svg\" alt=\"Open In Colab\"/></a>"
      ]
    },
    {
      "cell_type": "markdown",
      "source": [
        "#Proportions\n"
      ],
      "metadata": {
        "id": "la8V30eY8Xcj"
      }
    },
    {
      "cell_type": "markdown",
      "source": [
        "Set up a proportion:<br>\n",
        "$\\frac{n1}{d1}=\\frac{n2}{d2}$"
      ],
      "metadata": {
        "id": "7jXJ0kTx9CLG"
      }
    },
    {
      "cell_type": "code",
      "execution_count": null,
      "metadata": {
        "id": "Vdi7B1P35lfQ",
        "colab": {
          "base_uri": "https://localhost:8080/"
        },
        "outputId": "1ed47f1b-9cb2-4cdc-fcd6-1d11d3315db0"
      },
      "outputs": [
        {
          "output_type": "stream",
          "name": "stdout",
          "text": [
            "n2: 1.5\n"
          ]
        }
      ],
      "source": [
        "#0 is an unknown value\n",
        "n1=1\n",
        "n2=0\n",
        "d1=4\n",
        "d2=6\n",
        "\n",
        "if n2==0 :\n",
        "  answer=(d2*n1/d1)\n",
        "  print(\"n2:\",answer)"
      ]
    },
    {
      "cell_type": "markdown",
      "source": [
        "**Note:**if a numerator n1=0 then n2 must be 0.<br>\n",
        "**Example** 0/4=x/16 here proportion x=0"
      ],
      "metadata": {
        "id": "5uexU1V8AiAs"
      }
    },
    {
      "cell_type": "markdown",
      "source": [
        "**Applications** for proportion problem such as currency exchange rates and unit conversion"
      ],
      "metadata": {
        "id": "hb09fM4rGS4B"
      }
    },
    {
      "cell_type": "code",
      "source": [
        "#currency exchange Ind to Usd\n",
        "USD=float(0.012)\n",
        "INR=1\n",
        "Amount_INR=int(input())\n",
        "Amount_USD=Amount_INR*USD\n",
        "print(f\"{Amount_INR:2f} INR is equivalent to {Amount_USD:2f} USD\")"
      ],
      "metadata": {
        "id": "1jN6CBjKAg38",
        "colab": {
          "base_uri": "https://localhost:8080/"
        },
        "outputId": "03ea5f98-b158-491d-a79c-66fceb5d8a32"
      },
      "execution_count": null,
      "outputs": [
        {
          "output_type": "stream",
          "name": "stdout",
          "text": [
            "100\n",
            "100.000000 INR is equivalent to 1.200000 USD\n"
          ]
        }
      ]
    },
    {
      "cell_type": "code",
      "source": [],
      "metadata": {
        "id": "ppcT4wjx80BY"
      },
      "execution_count": null,
      "outputs": []
    },
    {
      "cell_type": "markdown",
      "source": [
        "# solving for x"
      ],
      "metadata": {
        "id": "AeWwxvBW84Hn"
      }
    },
    {
      "cell_type": "markdown",
      "source": [
        "Solving for x. The variable `eq` is the equation set equal to zero. This will print an array of solutions."
      ],
      "metadata": {
        "id": "ukin-U7QJ8ao"
      }
    },
    {
      "cell_type": "code",
      "source": [
        "import sympy\n",
        "from sympy import symbols\n",
        "from sympy.solvers import solve\n",
        "\n",
        "x = symbols('x')\n",
        "\n",
        "# Put the equation here\n",
        "eq = 2*x - 4\n",
        "\n",
        "print(\"x = \", solve(eq,x))\n",
        "\n"
      ],
      "metadata": {
        "colab": {
          "base_uri": "https://localhost:8080/"
        },
        "id": "kDTgP8YF8-ZR",
        "outputId": "33f88199-04ef-4638-c34e-ccccefd7a570"
      },
      "execution_count": 1,
      "outputs": [
        {
          "output_type": "stream",
          "name": "stdout",
          "text": [
            "x =  [2]\n"
          ]
        }
      ]
    },
    {
      "cell_type": "markdown",
      "source": [
        "Note: sympy library is used to solve algebra problems with variables"
      ],
      "metadata": {
        "id": "JYwHdqstKM0Z"
      }
    },
    {
      "cell_type": "markdown",
      "source": [],
      "metadata": {
        "id": "pqvbtGkdKuKX"
      }
    }
  ]
}