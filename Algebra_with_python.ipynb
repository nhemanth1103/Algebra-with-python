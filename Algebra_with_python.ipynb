{
  "nbformat": 4,
  "nbformat_minor": 0,
  "metadata": {
    "colab": {
      "provenance": [],
      "authorship_tag": "ABX9TyOipAD3D3y7JBXnl/0Jq69P",
      "include_colab_link": true
    },
    "kernelspec": {
      "name": "python3",
      "display_name": "Python 3"
    },
    "language_info": {
      "name": "python"
    }
  },
  "cells": [
    {
      "cell_type": "markdown",
      "metadata": {
        "id": "view-in-github",
        "colab_type": "text"
      },
      "source": [
        "<a href=\"https://colab.research.google.com/github/nhemanth1103/Algebra-with-python/blob/main/Algebra_with_python.ipynb\" target=\"_parent\"><img src=\"https://colab.research.google.com/assets/colab-badge.svg\" alt=\"Open In Colab\"/></a>"
      ]
    },
    {
      "cell_type": "markdown",
      "source": [
        "#Proportions\n"
      ],
      "metadata": {
        "id": "la8V30eY8Xcj"
      }
    },
    {
      "cell_type": "markdown",
      "source": [
        "Set up a proportion:<br>\n",
        "$\\frac{n1}{d1}=\\frac{n2}{d2}$"
      ],
      "metadata": {
        "id": "7jXJ0kTx9CLG"
      }
    },
    {
      "cell_type": "code",
      "execution_count": null,
      "metadata": {
        "id": "Vdi7B1P35lfQ",
        "colab": {
          "base_uri": "https://localhost:8080/"
        },
        "outputId": "1ed47f1b-9cb2-4cdc-fcd6-1d11d3315db0"
      },
      "outputs": [
        {
          "output_type": "stream",
          "name": "stdout",
          "text": [
            "n2: 1.5\n"
          ]
        }
      ],
      "source": [
        "#0 is an unknown value\n",
        "n1=1\n",
        "n2=0\n",
        "d1=4\n",
        "d2=6\n",
        "\n",
        "if n2==0 :\n",
        "  answer=(d2*n1/d1)\n",
        "  print(\"n2:\",answer)"
      ]
    },
    {
      "cell_type": "markdown",
      "source": [
        "**Note:**if a numerator n1=0 then n2 must be 0.<br>\n",
        "**Example** 0/4=x/16 here proportion x=0"
      ],
      "metadata": {
        "id": "5uexU1V8AiAs"
      }
    },
    {
      "cell_type": "markdown",
      "source": [
        "**Applications** for proportion problem such as currency exchange rates and unit conversion"
      ],
      "metadata": {
        "id": "hb09fM4rGS4B"
      }
    },
    {
      "cell_type": "code",
      "source": [
        "#currency exchange Ind to Usd\n",
        "USD=float(0.012)\n",
        "INR=1\n",
        "Amount_INR=int(input())\n",
        "Amount_USD=Amount_INR*USD\n",
        "print(f\"{Amount_INR:2f} INR is equivalent to {Amount_USD:2f} USD\")"
      ],
      "metadata": {
        "id": "1jN6CBjKAg38",
        "colab": {
          "base_uri": "https://localhost:8080/"
        },
        "outputId": "03ea5f98-b158-491d-a79c-66fceb5d8a32"
      },
      "execution_count": null,
      "outputs": [
        {
          "output_type": "stream",
          "name": "stdout",
          "text": [
            "100\n",
            "100.000000 INR is equivalent to 1.200000 USD\n"
          ]
        }
      ]
    },
    {
      "cell_type": "code",
      "source": [],
      "metadata": {
        "id": "ppcT4wjx80BY"
      },
      "execution_count": null,
      "outputs": []
    },
    {
      "cell_type": "markdown",
      "source": [
        "# solving for x"
      ],
      "metadata": {
        "id": "AeWwxvBW84Hn"
      }
    },
    {
      "cell_type": "markdown",
      "source": [
        "Solving for x. The variable `eq` is the equation set equal to zero. This will print an array of solutions."
      ],
      "metadata": {
        "id": "ukin-U7QJ8ao"
      }
    },
    {
      "cell_type": "code",
      "source": [
        "import sympy\n",
        "from sympy import symbols\n",
        "from sympy.solvers import solve\n",
        "\n",
        "x = symbols('x')\n",
        "\n",
        "# Put the equation here\n",
        "eq = 2*x - 4\n",
        "\n",
        "print(\"x = \", solve(eq,x))\n",
        "\n"
      ],
      "metadata": {
        "colab": {
          "base_uri": "https://localhost:8080/"
        },
        "id": "kDTgP8YF8-ZR",
        "outputId": "33f88199-04ef-4638-c34e-ccccefd7a570"
      },
      "execution_count": null,
      "outputs": [
        {
          "output_type": "stream",
          "name": "stdout",
          "text": [
            "x =  [2]\n"
          ]
        }
      ]
    },
    {
      "cell_type": "markdown",
      "source": [
        "Note: sympy library is used to solve algebra problems with variables"
      ],
      "metadata": {
        "id": "JYwHdqstKM0Z"
      }
    },
    {
      "cell_type": "markdown",
      "source": [
        "Prompt for someone to enter the equation, then solve"
      ],
      "metadata": {
        "id": "pqvbtGkdKuKX"
      }
    },
    {
      "cell_type": "code",
      "source": [
        "import sympy\n",
        "from sympy import symbols\n",
        "from sympy.solvers import solve\n",
        "\n",
        "x = symbols('x')\n",
        "eq = input('Enter equation: 0 = ')\n",
        "\n",
        "print(\"x = \", solve(eq,x))"
      ],
      "metadata": {
        "id": "UZJhiz715EEl"
      },
      "execution_count": null,
      "outputs": []
    },
    {
      "cell_type": "markdown",
      "source": [
        "Solving in other ways"
      ],
      "metadata": {
        "id": "2ARJN9Pr330s"
      }
    },
    {
      "cell_type": "code",
      "source": [
        "from sympy import *\n",
        "\n",
        "\n",
        "var('x y')\n",
        "\n",
        "# First equation set equal to zero, ready to solve\n",
        "first = 2*x - y\n",
        "\n",
        "\n",
        "# Sympy syntax for equation equal to zero, ready to factor\n",
        "eq1 = Eq(first,0)\n",
        "\n",
        "# Sympy solve for x\n",
        "sol = solve(eq1,x)\n",
        "\n",
        "# Show factored results\n",
        "print(\"x = \", sol[0])"
      ],
      "metadata": {
        "colab": {
          "base_uri": "https://localhost:8080/"
        },
        "id": "FUiKO4KR34cv",
        "outputId": "68260fbe-147c-4d63-dfcc-32667103ce52"
      },
      "execution_count": null,
      "outputs": [
        {
          "output_type": "stream",
          "name": "stdout",
          "text": [
            "x =  y/2\n"
          ]
        }
      ]
    },
    {
      "cell_type": "markdown",
      "source": [
        "Factorizing"
      ],
      "metadata": {
        "id": "r8nmyT0-dkPD"
      }
    },
    {
      "cell_type": "code",
      "source": [
        "import sympy\n",
        "from sympy import *\n",
        "var('x y')\n",
        "\n",
        "eq=x**2-4\n",
        "\n",
        "sympy.factor(eq)"
      ],
      "metadata": {
        "colab": {
          "base_uri": "https://localhost:8080/",
          "height": 39
        },
        "id": "Dhp0Sj55d2Ie",
        "outputId": "f3e9dc6c-3870-4006-917e-584dd6c13df7"
      },
      "execution_count": null,
      "outputs": [
        {
          "output_type": "execute_result",
          "data": {
            "text/plain": [
              "(x - 2)*(x + 2)"
            ],
            "text/latex": "$\\displaystyle \\left(x - 2\\right) \\left(x + 2\\right)$"
          },
          "metadata": {},
          "execution_count": 6
        }
      ]
    },
    {
      "cell_type": "markdown",
      "source": [
        "# converting fractions and decimals"
      ],
      "metadata": {
        "id": "O7Ni4_45QQ3F"
      }
    },
    {
      "cell_type": "markdown",
      "source": [
        "positive and negative exponents"
      ],
      "metadata": {
        "id": "Xj24sUWLSpl2"
      }
    },
    {
      "cell_type": "code",
      "source": [
        "print(10**1)\n",
        "print(10**2)\n",
        "print(10**3)\n",
        "\n",
        "print(10**0)\n",
        "\n",
        "print(10**-1)\n",
        "print(10**-2)\n",
        "print(10**-3)\n"
      ],
      "metadata": {
        "colab": {
          "base_uri": "https://localhost:8080/"
        },
        "id": "QR_slLZnQe6q",
        "outputId": "f9358063-d905-4d96-e1dd-472f0d033418"
      },
      "execution_count": 3,
      "outputs": [
        {
          "output_type": "stream",
          "name": "stdout",
          "text": [
            "10\n",
            "100\n",
            "1000\n",
            "1\n",
            "0.1\n",
            "0.01\n",
            "0.001\n"
          ]
        }
      ]
    },
    {
      "cell_type": "markdown",
      "source": [
        "\n",
        "\n",
        " Decimal number to convert into fraction and percentage\n"
      ],
      "metadata": {
        "id": "NVz4V3xtUxlZ"
      }
    },
    {
      "cell_type": "code",
      "source": [
        "\n",
        "# Get string input, which will include a decimal point\n",
        "digits = input(\"Enter a decimal number to convert: \")\n",
        "\n",
        "# Get number of decimal places as an integer\n",
        "exponent = int(len(digits))-1\n",
        "\n",
        "# Convert the input to a float number\n",
        "n = float(digits)\n",
        "\n",
        "# Use the exponent to get the numerator\n",
        "numerator = int(n * 10**exponent)\n",
        "\n",
        "# Use the expoent to get the denominator\n",
        "denominator = 10**exponent\n",
        "\n",
        "# percent is the first two decimal places\n",
        "percent = n * 100\n",
        "\n",
        "# Output\n",
        "print(\"The decimal is \", n)\n",
        "print(\"The fraction is \", numerator, \"/\", denominator)\n",
        "print(\"The percent is \", percent, \" %\")\n"
      ],
      "metadata": {
        "colab": {
          "base_uri": "https://localhost:8080/"
        },
        "id": "OAXb2VkFUxDm",
        "outputId": "c67ae874-4328-48dd-d51a-60cda10aac78"
      },
      "execution_count": 4,
      "outputs": [
        {
          "output_type": "stream",
          "name": "stdout",
          "text": [
            "Enter a decimal number to convert: .5\n",
            "The decimal is  0.5\n",
            "The fraction is  5 / 10\n",
            "The percent is  50.0  %\n"
          ]
        }
      ]
    }
  ]
}